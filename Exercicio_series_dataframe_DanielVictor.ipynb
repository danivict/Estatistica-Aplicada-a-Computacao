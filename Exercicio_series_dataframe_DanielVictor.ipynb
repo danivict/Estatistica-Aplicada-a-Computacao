{
 "cells": [
  {
   "cell_type": "markdown",
   "metadata": {},
   "source": [
    "# EXERCÍCIO SÉRIES E DATAFRAME"
   ]
  },
  {
   "cell_type": "markdown",
   "metadata": {},
   "source": [
    "Passo 1: Importar as bibliotecas necessárias."
   ]
  },
  {
   "cell_type": "code",
   "execution_count": 180,
   "metadata": {
    "collapsed": true
   },
   "outputs": [],
   "source": [
    "import numpy as np\n",
    "import pandas as pd"
   ]
  },
  {
   "cell_type": "markdown",
   "metadata": {},
   "source": [
    "Passo 2: Criar um DataFrame com os dados fornecidos com dicionário."
   ]
  },
  {
   "cell_type": "code",
   "execution_count": 181,
   "metadata": {
    "collapsed": false
   },
   "outputs": [],
   "source": [
    "evo = {'Evolução':['Ivysaur', 'Charmeleon', 'Wartotle', 'Metapod']}\n",
    "vida = {'HP':[45, 39, 44, 45]}\n",
    "name = {'Nome':['Bulbasaur', 'Charmander', 'Squirtle', 'Caterpie']} \n",
    "agenda = {'Pokedex':['Sim', 'Não', 'Sim', 'Não']}\n",
    "kind = {'Tipo':['Planta', 'Fogo', 'Água', 'Inseto']}"
   ]
  },
  {
   "cell_type": "markdown",
   "metadata": {},
   "source": [
    "Passo 3: Crie uma Série para cada dicionário criado acima."
   ]
  },
  {
   "cell_type": "code",
   "execution_count": 182,
   "metadata": {
    "collapsed": false
   },
   "outputs": [],
   "source": [
    "evos = pd.Series(evo['Evolução'], name='Evolução')\n",
    "vidas = pd.Series(vida['HP'], name='HP')\n",
    "names = pd.Series(name['Nome'], name = 'Nome')\n",
    "agendas = pd.Series(agenda['Pokedex'], name = 'Nome')\n",
    "kinds = pd.Series(kind['Tipo'], name = 'Tipo')"
   ]
  },
  {
   "cell_type": "markdown",
   "metadata": {},
   "source": [
    "Passo 4. Crie um data frame para a tabela fornecida usando só os dicionário, depois usando só as séries criadas acima."
   ]
  },
  {
   "cell_type": "code",
   "execution_count": 183,
   "metadata": {
    "collapsed": false
   },
   "outputs": [
    {
     "data": {
      "text/html": [
       "<div>\n",
       "<table border=\"1\" class=\"dataframe\">\n",
       "  <thead>\n",
       "    <tr style=\"text-align: right;\">\n",
       "      <th></th>\n",
       "      <th>Evolução</th>\n",
       "      <th>HP</th>\n",
       "      <th>Nome</th>\n",
       "      <th>Pokedex</th>\n",
       "      <th>Tipo</th>\n",
       "    </tr>\n",
       "  </thead>\n",
       "  <tbody>\n",
       "    <tr>\n",
       "      <th>0</th>\n",
       "      <td>Ivysaur</td>\n",
       "      <td>45</td>\n",
       "      <td>Bulbasaur</td>\n",
       "      <td>Sim</td>\n",
       "      <td>Planta</td>\n",
       "    </tr>\n",
       "    <tr>\n",
       "      <th>1</th>\n",
       "      <td>Charmeleon</td>\n",
       "      <td>39</td>\n",
       "      <td>Charmander</td>\n",
       "      <td>Não</td>\n",
       "      <td>Fogo</td>\n",
       "    </tr>\n",
       "    <tr>\n",
       "      <th>2</th>\n",
       "      <td>Wartotle</td>\n",
       "      <td>44</td>\n",
       "      <td>Squirtle</td>\n",
       "      <td>Sim</td>\n",
       "      <td>Água</td>\n",
       "    </tr>\n",
       "    <tr>\n",
       "      <th>3</th>\n",
       "      <td>Metapod</td>\n",
       "      <td>45</td>\n",
       "      <td>Caterpie</td>\n",
       "      <td>Não</td>\n",
       "      <td>Inseto</td>\n",
       "    </tr>\n",
       "  </tbody>\n",
       "</table>\n",
       "</div>"
      ],
      "text/plain": [
       "     Evolução  HP        Nome Pokedex    Tipo\n",
       "0     Ivysaur  45   Bulbasaur     Sim  Planta\n",
       "1  Charmeleon  39  Charmander     Não    Fogo\n",
       "2    Wartotle  44    Squirtle     Sim    Água\n",
       "3     Metapod  45    Caterpie     Não  Inseto"
      ]
     },
     "execution_count": 183,
     "metadata": {},
     "output_type": "execute_result"
    }
   ],
   "source": [
    "data = dict(evo, **vida, **name, **agenda, **kind)\n",
    "dfd = pd.DataFrame(data)    # dataframe\n",
    "dfd"
   ]
  },
  {
   "cell_type": "code",
   "execution_count": 184,
   "metadata": {
    "collapsed": false
   },
   "outputs": [
    {
     "data": {
      "text/html": [
       "<div>\n",
       "<table border=\"1\" class=\"dataframe\">\n",
       "  <thead>\n",
       "    <tr style=\"text-align: right;\">\n",
       "      <th></th>\n",
       "      <th>Evolução</th>\n",
       "      <th>HP</th>\n",
       "      <th>Nome</th>\n",
       "      <th>Nome</th>\n",
       "      <th>Tipo</th>\n",
       "    </tr>\n",
       "  </thead>\n",
       "  <tbody>\n",
       "    <tr>\n",
       "      <th>0</th>\n",
       "      <td>Ivysaur</td>\n",
       "      <td>45</td>\n",
       "      <td>Bulbasaur</td>\n",
       "      <td>Sim</td>\n",
       "      <td>Planta</td>\n",
       "    </tr>\n",
       "    <tr>\n",
       "      <th>1</th>\n",
       "      <td>Charmeleon</td>\n",
       "      <td>39</td>\n",
       "      <td>Charmander</td>\n",
       "      <td>Não</td>\n",
       "      <td>Fogo</td>\n",
       "    </tr>\n",
       "    <tr>\n",
       "      <th>2</th>\n",
       "      <td>Wartotle</td>\n",
       "      <td>44</td>\n",
       "      <td>Squirtle</td>\n",
       "      <td>Sim</td>\n",
       "      <td>Água</td>\n",
       "    </tr>\n",
       "    <tr>\n",
       "      <th>3</th>\n",
       "      <td>Metapod</td>\n",
       "      <td>45</td>\n",
       "      <td>Caterpie</td>\n",
       "      <td>Não</td>\n",
       "      <td>Inseto</td>\n",
       "    </tr>\n",
       "  </tbody>\n",
       "</table>\n",
       "</div>"
      ],
      "text/plain": [
       "     Evolução  HP        Nome Nome    Tipo\n",
       "0     Ivysaur  45   Bulbasaur  Sim  Planta\n",
       "1  Charmeleon  39  Charmander  Não    Fogo\n",
       "2    Wartotle  44    Squirtle  Sim    Água\n",
       "3     Metapod  45    Caterpie  Não  Inseto"
      ]
     },
     "execution_count": 184,
     "metadata": {},
     "output_type": "execute_result"
    }
   ],
   "source": [
    "dfs = pd.DataFrame(pd.concat([evos, vidas, names, agendas, kinds], axis=1)) #serie\n",
    "dfs"
   ]
  },
  {
   "cell_type": "markdown",
   "metadata": {},
   "source": [
    "Passo 5: Ordene as colunas do dataframe criado de forma a ter: nome, evolução, tipo, HP e pokedex como ordem das colunas."
   ]
  },
  {
   "cell_type": "code",
   "execution_count": 185,
   "metadata": {
    "collapsed": false
   },
   "outputs": [
    {
     "data": {
      "text/html": [
       "<div>\n",
       "<table border=\"1\" class=\"dataframe\">\n",
       "  <thead>\n",
       "    <tr style=\"text-align: right;\">\n",
       "      <th></th>\n",
       "      <th>Nome</th>\n",
       "      <th>Evolução</th>\n",
       "      <th>Tipo</th>\n",
       "      <th>HP</th>\n",
       "      <th>Pokedex</th>\n",
       "    </tr>\n",
       "  </thead>\n",
       "  <tbody>\n",
       "    <tr>\n",
       "      <th>0</th>\n",
       "      <td>Bulbasaur</td>\n",
       "      <td>Ivysaur</td>\n",
       "      <td>Planta</td>\n",
       "      <td>45</td>\n",
       "      <td>Sim</td>\n",
       "    </tr>\n",
       "    <tr>\n",
       "      <th>1</th>\n",
       "      <td>Charmander</td>\n",
       "      <td>Charmeleon</td>\n",
       "      <td>Fogo</td>\n",
       "      <td>39</td>\n",
       "      <td>Não</td>\n",
       "    </tr>\n",
       "    <tr>\n",
       "      <th>2</th>\n",
       "      <td>Squirtle</td>\n",
       "      <td>Wartotle</td>\n",
       "      <td>Água</td>\n",
       "      <td>44</td>\n",
       "      <td>Sim</td>\n",
       "    </tr>\n",
       "    <tr>\n",
       "      <th>3</th>\n",
       "      <td>Caterpie</td>\n",
       "      <td>Metapod</td>\n",
       "      <td>Inseto</td>\n",
       "      <td>45</td>\n",
       "      <td>Não</td>\n",
       "    </tr>\n",
       "  </tbody>\n",
       "</table>\n",
       "</div>"
      ],
      "text/plain": [
       "         Nome    Evolução    Tipo  HP Pokedex\n",
       "0   Bulbasaur     Ivysaur  Planta  45     Sim\n",
       "1  Charmander  Charmeleon    Fogo  39     Não\n",
       "2    Squirtle    Wartotle    Água  44     Sim\n",
       "3    Caterpie     Metapod  Inseto  45     Não"
      ]
     },
     "execution_count": 185,
     "metadata": {},
     "output_type": "execute_result"
    }
   ],
   "source": [
    "dfd = dfd[['Nome', 'Evolução', 'Tipo', 'HP', 'Pokedex']]\n",
    "dfd"
   ]
  },
  {
   "cell_type": "markdown",
   "metadata": {},
   "source": [
    "Passo 6. Transforme a coluna Nome no index do dataframe."
   ]
  },
  {
   "cell_type": "code",
   "execution_count": 186,
   "metadata": {
    "collapsed": false
   },
   "outputs": [
    {
     "data": {
      "text/html": [
       "<div>\n",
       "<table border=\"1\" class=\"dataframe\">\n",
       "  <thead>\n",
       "    <tr style=\"text-align: right;\">\n",
       "      <th></th>\n",
       "      <th>Evolução</th>\n",
       "      <th>Tipo</th>\n",
       "      <th>HP</th>\n",
       "      <th>Pokedex</th>\n",
       "    </tr>\n",
       "    <tr>\n",
       "      <th>Nome</th>\n",
       "      <th></th>\n",
       "      <th></th>\n",
       "      <th></th>\n",
       "      <th></th>\n",
       "    </tr>\n",
       "  </thead>\n",
       "  <tbody>\n",
       "    <tr>\n",
       "      <th>Bulbasaur</th>\n",
       "      <td>Ivysaur</td>\n",
       "      <td>Planta</td>\n",
       "      <td>45</td>\n",
       "      <td>Sim</td>\n",
       "    </tr>\n",
       "    <tr>\n",
       "      <th>Charmander</th>\n",
       "      <td>Charmeleon</td>\n",
       "      <td>Fogo</td>\n",
       "      <td>39</td>\n",
       "      <td>Não</td>\n",
       "    </tr>\n",
       "    <tr>\n",
       "      <th>Squirtle</th>\n",
       "      <td>Wartotle</td>\n",
       "      <td>Água</td>\n",
       "      <td>44</td>\n",
       "      <td>Sim</td>\n",
       "    </tr>\n",
       "    <tr>\n",
       "      <th>Caterpie</th>\n",
       "      <td>Metapod</td>\n",
       "      <td>Inseto</td>\n",
       "      <td>45</td>\n",
       "      <td>Não</td>\n",
       "    </tr>\n",
       "  </tbody>\n",
       "</table>\n",
       "</div>"
      ],
      "text/plain": [
       "              Evolução    Tipo  HP Pokedex\n",
       "Nome                                      \n",
       "Bulbasaur      Ivysaur  Planta  45     Sim\n",
       "Charmander  Charmeleon    Fogo  39     Não\n",
       "Squirtle      Wartotle    Água  44     Sim\n",
       "Caterpie       Metapod  Inseto  45     Não"
      ]
     },
     "execution_count": 186,
     "metadata": {},
     "output_type": "execute_result"
    }
   ],
   "source": [
    "dfd = dfd.set_index('Nome')\n",
    "dfd"
   ]
  },
  {
   "cell_type": "markdown",
   "metadata": {},
   "source": [
    "Passo 7. Insira uma nova coluna, dando uma nota para o pokemon."
   ]
  },
  {
   "cell_type": "code",
   "execution_count": 187,
   "metadata": {
    "collapsed": false
   },
   "outputs": [
    {
     "data": {
      "text/html": [
       "<div>\n",
       "<table border=\"1\" class=\"dataframe\">\n",
       "  <thead>\n",
       "    <tr style=\"text-align: right;\">\n",
       "      <th></th>\n",
       "      <th>Evolução</th>\n",
       "      <th>Tipo</th>\n",
       "      <th>HP</th>\n",
       "      <th>Pokedex</th>\n",
       "      <th>Nota</th>\n",
       "    </tr>\n",
       "    <tr>\n",
       "      <th>Nome</th>\n",
       "      <th></th>\n",
       "      <th></th>\n",
       "      <th></th>\n",
       "      <th></th>\n",
       "      <th></th>\n",
       "    </tr>\n",
       "  </thead>\n",
       "  <tbody>\n",
       "    <tr>\n",
       "      <th>Bulbasaur</th>\n",
       "      <td>Ivysaur</td>\n",
       "      <td>Planta</td>\n",
       "      <td>45</td>\n",
       "      <td>Sim</td>\n",
       "      <td>10</td>\n",
       "    </tr>\n",
       "    <tr>\n",
       "      <th>Charmander</th>\n",
       "      <td>Charmeleon</td>\n",
       "      <td>Fogo</td>\n",
       "      <td>39</td>\n",
       "      <td>Não</td>\n",
       "      <td>9</td>\n",
       "    </tr>\n",
       "    <tr>\n",
       "      <th>Squirtle</th>\n",
       "      <td>Wartotle</td>\n",
       "      <td>Água</td>\n",
       "      <td>44</td>\n",
       "      <td>Sim</td>\n",
       "      <td>3</td>\n",
       "    </tr>\n",
       "    <tr>\n",
       "      <th>Caterpie</th>\n",
       "      <td>Metapod</td>\n",
       "      <td>Inseto</td>\n",
       "      <td>45</td>\n",
       "      <td>Não</td>\n",
       "      <td>4</td>\n",
       "    </tr>\n",
       "  </tbody>\n",
       "</table>\n",
       "</div>"
      ],
      "text/plain": [
       "              Evolução    Tipo  HP Pokedex  Nota\n",
       "Nome                                            \n",
       "Bulbasaur      Ivysaur  Planta  45     Sim    10\n",
       "Charmander  Charmeleon    Fogo  39     Não     9\n",
       "Squirtle      Wartotle    Água  44     Sim     3\n",
       "Caterpie       Metapod  Inseto  45     Não     4"
      ]
     },
     "execution_count": 187,
     "metadata": {},
     "output_type": "execute_result"
    }
   ],
   "source": [
    "dfd['Nota'] = [10, 9, 3, 4]\n",
    "dfd"
   ]
  },
  {
   "cell_type": "markdown",
   "metadata": {},
   "source": [
    "Passo 8. Mostre o tipo de cada coluna do dataframe."
   ]
  },
  {
   "cell_type": "code",
   "execution_count": 190,
   "metadata": {
    "collapsed": false
   },
   "outputs": [
    {
     "data": {
      "text/plain": [
       "Evolução    object\n",
       "Tipo        object\n",
       "HP           int64\n",
       "Pokedex     object\n",
       "Nota         int64\n",
       "dtype: object"
      ]
     },
     "execution_count": 190,
     "metadata": {},
     "output_type": "execute_result"
    }
   ],
   "source": [
    "dfd.dtypes"
   ]
  }
 ],
 "metadata": {
  "kernelspec": {
   "display_name": "Python 3",
   "language": "python",
   "name": "python3"
  },
  "language_info": {
   "codemirror_mode": {
    "name": "ipython",
    "version": 3
   },
   "file_extension": ".py",
   "mimetype": "text/x-python",
   "name": "python",
   "nbconvert_exporter": "python",
   "pygments_lexer": "ipython3",
   "version": "3.6.0"
  }
 },
 "nbformat": 4,
 "nbformat_minor": 2
}
